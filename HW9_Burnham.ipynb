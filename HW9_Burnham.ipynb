{
 "cells": [
  {
   "cell_type": "markdown",
   "metadata": {},
   "source": [
    "# #1"
   ]
  },
  {
   "cell_type": "code",
   "execution_count": 1,
   "metadata": {},
   "outputs": [],
   "source": [
    "import random"
   ]
  },
  {
   "cell_type": "code",
   "execution_count": 24,
   "metadata": {},
   "outputs": [
    {
     "name": "stdout",
     "output_type": "stream",
     "text": [
      "\n",
      "Winning by switching probability:  64.0 %\n",
      "Winning by staying probability:  36.0 %\n"
     ]
    }
   ],
   "source": [
    "import random\n",
    "\n",
    "def letsmakeadeal():\n",
    "    numgames = 1000\n",
    "    win_by_switch = 0\n",
    "    print()\n",
    "    for game in range(numgames):\n",
    "        winning_door = random.randint(1,3)\n",
    "        chosen_door = random.randint(1,3)\n",
    "        open_door = random.randint(1,3)\n",
    "        while open_door == winning_door or open_door == chosen_door:\n",
    "            open_door = random.randint(1,3)\n",
    "        choice = random.randint(1,3)\n",
    "        while choice == open_door or choice == chosen_door:\n",
    "            choice = random.randint(1,3)\n",
    "        if choice == winning_door:\n",
    "            win_by_switch += 1\n",
    "    switch_prob = (win_by_switch/numgames)*100\n",
    "    print(\"Winning by switching probability: \",switch_prob, '%')\n",
    "    stay_prob = ((numgames-win_by_switch)/numgames)*100\n",
    "    print(\"Winning by staying probability: \", stay_prob, '%')\n",
    "        \n",
    "letsmakeadeal()"
   ]
  },
  {
   "cell_type": "markdown",
   "metadata": {},
   "source": [
    "# #2"
   ]
  },
  {
   "cell_type": "code",
   "execution_count": 16,
   "metadata": {},
   "outputs": [
    {
     "data": {
      "image/png": "[encoded data removed]",
      "text/plain": [
       "<Figure size 432x288 with 1 Axes>"
      ]
     },
     "metadata": {
      "needs_background": "light"
     },
     "output_type": "display_data"
    }
   ],
   "source": [
    "from random import random\n",
    "from numpy import arange\n",
    "from pylab import plot,xlabel,ylabel,show\n",
    "\n",
    "def p(tau):\n",
    "    return 1 - 2**(-h/tau)\n",
    "\n",
    "h = 1.0            \n",
    "tmax = 20000\n",
    "\n",
    "Bi209_num = 0\n",
    "\n",
    "Pb_num = 0\n",
    "Pb_tau = 3.3 * 60 \n",
    "Pb_p = p(Pb_tau)\n",
    "\n",
    "Tl_num = 0\n",
    "Tl_tau = 2.2 * 60\n",
    "Tl_p = p(Tl_tau)\n",
    "\n",
    "Bi213_num = 10000\n",
    "Bi213_tau = 46 * 60\n",
    "Bi213_p = p(Bi213_tau)\n",
    "\n",
    "time_points = arange(0.0,tmax,h)\n",
    "Pb_points = []\n",
    "Bi209_points = []\n",
    "Tl_points = []\n",
    "Bi213_points = []\n",
    "\n",
    "for time in time_points:\n",
    "    Pb_points.append(Pb_num)\n",
    "    Bi209_points.append(Bi209_num)\n",
    "    Tl_points.append(Tl_num)\n",
    "    Bi213_points.append(Bi213_num)\n",
    "    decay1= 0\n",
    "    decay2 = 0\n",
    "    decay3=0\n",
    "    for i in range(Pb_num):\n",
    "        if random()<Pb_p:\n",
    "            decay1 += 1\n",
    "    Pb_num -= (decay1)\n",
    "    Bi209_num += (decay1)\n",
    "    for j in range(Tl_num):\n",
    "        if random() < Tl_p:\n",
    "            decay2 += 1\n",
    "    Tl_num -= (decay2)\n",
    "    Pb_num += (decay2)\n",
    "    for m in range(Bi213_num):\n",
    "        if random() < Bi213_p:\n",
    "            decay3 += 1\n",
    "    Bi213_num -= decay3\n",
    "    Pb_num += round(decay3*0.9791)\n",
    "    Tl_num += round(decay3*0.0209)\n",
    "\n",
    "plot(time_points, Pb_points, c = 'g')\n",
    "plot(time_points, Tl_points ,c= 'm')\n",
    "plot(time_points, Bi209_points,c='k')\n",
    "plot(time_points, Bi213_points,c='b')\n",
    "xlabel(\"Time\")\n",
    "ylabel(\"Number of atoms\")\n",
    "show()"
   ]
  }
 ],
 "metadata": {
  "kernelspec": {
   "display_name": "Python 3",
   "language": "python",
   "name": "python3"
  },
  "language_info": {
   "codemirror_mode": {
    "name": "ipython",
    "version": 3
   },
   "file_extension": ".py",
   "mimetype": "text/x-python",
   "name": "python",
   "nbconvert_exporter": "python",
   "pygments_lexer": "ipython3",
   "version": "3.8.3"
  }
 },
 "nbformat": 4,
 "nbformat_minor": 4
}
