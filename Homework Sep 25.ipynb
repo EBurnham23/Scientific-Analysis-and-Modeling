{
 "cells": [
  {
   "cell_type": "markdown",
   "metadata": {},
   "source": [
    "I solved these problems to the best of my ability, but the code got stuck in an infinite loop that I could not fix. "
   ]
  },
  {
   "cell_type": "code",
   "execution_count": null,
   "metadata": {},
   "outputs": [],
   "source": [
    "import math\n",
    "import numpy as np\n",
    "\n",
    "X=10\n",
    "N = 10**8\n",
    "\n",
    "def e_minusx_simple(X):\n",
    "    emxsmp = 0\n",
    "    for n in range(0,N):\n",
    "        emxsmp +=((((-1)**n)*((X)**n))/(math.factorial(n)))\n",
    "    return emxsmp\n",
    "\n",
    "def e_minusx_recurse(X):\n",
    "    emxrec = 0\n",
    "    for u in range(1,N):\n",
    "        def s_n(u):\n",
    "            s_0=1/u\n",
    "        return s_0\n",
    "        emxrec += (-(s_n(u-1))*((X**u)/u))\n",
    "    return emxrec\n",
    "\n",
    "def e_minusx_inverse(X):\n",
    "    ex=0\n",
    "    for h in range(0,N):\n",
    "        ex +=(((-1)**h)*((X)**h)/(math.factorial(h)))\n",
    "        emxinv=1/ex\n",
    "    return emxinv\n",
    "\n",
    "print(X, e_minusx_simple(X),e_minusx_recurse(X), e_minusx_recurse(X), np.exp(-X))"
   ]
  },
  {
   "cell_type": "code",
   "execution_count": null,
   "metadata": {},
   "outputs": [],
   "source": [
    "X=20\n",
    "print(X, e_minusx_simple(X),e_minusx_recurse(X), e_minusx_recurse(X), np.exp(-X))"
   ]
  },
  {
   "cell_type": "code",
   "execution_count": null,
   "metadata": {},
   "outputs": [],
   "source": [
    "X=30\n",
    "print(X, e_minusx_simple(X),e_minusx_recurse(X), e_minusx_recurse(X), np.exp(-X))"
   ]
  },
  {
   "cell_type": "code",
   "execution_count": null,
   "metadata": {},
   "outputs": [],
   "source": [
    "X=40\n",
    "print(X, e_minusx_simple(X),e_minusx_recurse(X), e_minusx_recurse(X), np.exp(-X))"
   ]
  },
  {
   "cell_type": "code",
   "execution_count": null,
   "metadata": {},
   "outputs": [],
   "source": [
    "X=50\n",
    "print(X, e_minusx_simple(X),e_minusx_recurse(X), e_minusx_recurse(X), np.exp(-X))"
   ]
  },
  {
   "cell_type": "code",
   "execution_count": null,
   "metadata": {},
   "outputs": [],
   "source": [
    "X=60\n",
    "print(X, e_minusx_simple(X),e_minusx_recurse(X), e_minusx_recurse(X), np.exp(-X))"
   ]
  },
  {
   "cell_type": "code",
   "execution_count": null,
   "metadata": {},
   "outputs": [],
   "source": [
    "X=70\n",
    "print(X, e_minusx_simple(X),e_minusx_recurse(X), e_minusx_recurse(X), np.exp(-X))"
   ]
  },
  {
   "cell_type": "code",
   "execution_count": null,
   "metadata": {},
   "outputs": [],
   "source": [
    "X=80\n",
    "print(X, e_minusx_simple(X),e_minusx_recurse(X), e_minusx_recurse(X), np.exp(-X))"
   ]
  },
  {
   "cell_type": "code",
   "execution_count": null,
   "metadata": {},
   "outputs": [],
   "source": [
    "X=90\n",
    "print(X, e_minusx_simple(X),e_minusx_recurse(X), e_minusx_recurse(X), np.exp(-X))"
   ]
  },
  {
   "cell_type": "code",
   "execution_count": null,
   "metadata": {},
   "outputs": [],
   "source": [
    "X=100\n",
    "print(X, e_minusx_simple(X),e_minusx_recurse(X), e_minusx_recurse(X), np.exp(-X))"
   ]
  },
  {
   "cell_type": "code",
   "execution_count": null,
   "metadata": {},
   "outputs": [],
   "source": [
    "X=0\n",
    "print(X, e_minusx_simple(X),e_minusx_recurse(X), e_minusx_recurse(X), np.exp(-X))"
   ]
  },
  {
   "cell_type": "code",
   "execution_count": null,
   "metadata": {},
   "outputs": [],
   "source": []
  }
 ],
 "metadata": {
  "kernelspec": {
   "display_name": "Python 3",
   "language": "python",
   "name": "python3"
  },
  "language_info": {
   "codemirror_mode": {
    "name": "ipython",
    "version": 3
   },
   "file_extension": ".py",
   "mimetype": "text/x-python",
   "name": "python",
   "nbconvert_exporter": "python",
   "pygments_lexer": "ipython3",
   "version": "3.8.3"
  }
 },
 "nbformat": 4,
 "nbformat_minor": 4
}
