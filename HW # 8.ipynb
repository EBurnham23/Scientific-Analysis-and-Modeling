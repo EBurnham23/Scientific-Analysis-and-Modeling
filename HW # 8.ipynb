{
 "cells": [
  {
   "cell_type": "markdown",
   "metadata": {},
   "source": [
    "## #1##"
   ]
  },
  {
   "cell_type": "code",
   "execution_count": 2,
   "metadata": {},
   "outputs": [],
   "source": [
    "a = 0.001\n",
    "b = 1000\n",
    "c = 0.001"
   ]
  },
  {
   "cell_type": "markdown",
   "metadata": {},
   "source": [
    " 1.A "
   ]
  },
  {
   "cell_type": "code",
   "execution_count": 7,
   "metadata": {
    "scrolled": true
   },
   "outputs": [
    {
     "name": "stdout",
     "output_type": "stream",
     "text": [
      "-9.999894245993346e-07\n",
      "-999999.999999\n"
     ]
    }
   ],
   "source": [
    "\n",
    "import math  \n",
    "\n",
    "def equationroots( a, b, c): \n",
    "    d = b * b - 4 * a * c  \n",
    "    rt_d = math.sqrt(abs(d))\n",
    "    if d > 0:   \n",
    "        print((-b + rt_d)/(2 * a))  \n",
    "        print((-b - rt_d)/(2 * a))  \n",
    "    elif d == 0:    \n",
    "        print(-b / (2 * a))  \n",
    "    else:   \n",
    "        print(- b / (2 * a), \" + i\", rt_d)  \n",
    "        print(- b / (2 * a), \" - i\", rt_d)  \n",
    "                     \n",
    "if a == 0:  \n",
    "    print(\"Input correct quadratic equation\")  \n",
    "else: \n",
    "    equationroots(a, b, c)"
   ]
  },
  {
   "cell_type": "markdown",
   "metadata": {},
   "source": [
    "1.B"
   ]
  },
  {
   "cell_type": "code",
   "execution_count": 8,
   "metadata": {},
   "outputs": [
    {
     "name": "stdout",
     "output_type": "stream",
     "text": [
      "-1.000000000001e-06\n",
      "-1000010.5755125057\n"
     ]
    }
   ],
   "source": [
    "import math\n",
    "\n",
    "def multiplier(a,b,c):\n",
    "    d = b * b - (4 * a * c)  \n",
    "    rt_d = math.sqrt(abs(d))\n",
    "    if d > 0:\n",
    "        print((2*c)/(-b - rt_d))\n",
    "        print((2*c)/(-b + rt_d))\n",
    "    elif d == 0:\n",
    "        print ((2*c)/(-b))\n",
    "    else:\n",
    "        print(((2*c)/(-b)),\"+(i\",rt_d,\")^(-1)\")\n",
    "                     \n",
    "if a == 0:  \n",
    "    print(\"Input correct quadratic equation\")  \n",
    "else: \n",
    "    multiplier(a, b, c)"
   ]
  },
  {
   "cell_type": "markdown",
   "metadata": {},
   "source": [
    "The two values for 1.A and 1.B are different by a magnitude of about 10 values. This is becuase that in the denominator of the multiplier function, is that the accuracy of the root funciton in the denominator is compromised, due to the assumptions made with the root function. This causes answers to be off by significant magnitudes. "
   ]
  },
  {
   "cell_type": "markdown",
   "metadata": {},
   "source": [
    "1.C"
   ]
  },
  {
   "cell_type": "code",
   "execution_count": 9,
   "metadata": {},
   "outputs": [
    {
     "name": "stdout",
     "output_type": "stream",
     "text": [
      "-1.000000000001e-06\n",
      "-999999.999999\n"
     ]
    }
   ],
   "source": [
    "import math\n",
    "\n",
    "def correctroots(a,b,c):\n",
    "    d = b * b - (4 * a * c)  \n",
    "    rt_d = math.sqrt(abs(d))\n",
    "    if d > 0:\n",
    "        print((2*c)/(-b - rt_d))\n",
    "        print((-b - rt_d)/(2 * a))\n",
    "    elif d == 0:\n",
    "        print(-b / (2 * a))\n",
    "    else:   \n",
    "        print(((2*c)/(-b)),\"+(i\",rt_d,\")^(-1)\")  \n",
    "        print(- b / (2 * a), \" - i\", rt_d)\n",
    "            \n",
    "if a == 0:  \n",
    "    print(\"Input correct quadratic equation\")  \n",
    "else: \n",
    "    correctroots(a, b, c)"
   ]
  },
  {
   "cell_type": "markdown",
   "metadata": {},
   "source": [
    "### #2"
   ]
  },
  {
   "cell_type": "code",
   "execution_count": 13,
   "metadata": {
    "scrolled": true
   },
   "outputs": [
    {
     "name": "stdout",
     "output_type": "stream",
     "text": [
      "2.2423101244987715e+25\n",
      "1.7403643679014922e+29\n"
     ]
    }
   ],
   "source": [
    "import math\n",
    "\n",
    "def f(x):\n",
    "    return (((x**4)*(math.exp(x)))/(((math.exp(x)-1.0)**2)))\n",
    "\n",
    "def C_v(T):\n",
    "    a = 0.0\n",
    "    b= theta_d/T\n",
    "    h = (b - a)/N\n",
    "    s = 0.5*f(b)\n",
    "    for k in range(1,N):\n",
    "        s += f(a+k*h)\n",
    "    integral = h*s\n",
    "    return 9*V*rho*k*((T/theta_d)**3)*integral      \n",
    "\n",
    "V = .001\n",
    "rho = (6.022*10**28)\n",
    "theta_d = 428.\n",
    "k = 1.38064852*10.0**-23\n",
    "T = 500.\n",
    "    \n",
    "print(C_v(5))\n",
    "print(C_v(500))"
   ]
  },
  {
   "cell_type": "code",
   "execution_count": 22,
   "metadata": {},
   "outputs": [],
   "source": [
    "\n",
    "N = 1000\n",
    "a = 0.0\n",
    "b = theta/T\n",
    "h = (b-a)/N\n",
    "s = 0.5*0 + 0.5*f(b)\n",
    "for r in range (1,N):\n",
    "    s += f(a+r*h)\n",
    "Int = s*h"
   ]
  },
  {
   "cell_type": "code",
   "execution_count": 25,
   "metadata": {},
   "outputs": [
    {
     "data": {
      "text/plain": [
       "Text(0, 0.5, 'Heat Capacity $(J/K)$')"
      ]
     },
     "execution_count": 25,
     "metadata": {},
     "output_type": "execute_result"
    },
    {
     "data": {
      "image/png": "[encoded data removed]",
      "text/plain": [
       "<Figure size 432x288 with 1 Axes>"
      ]
     },
     "metadata": {
      "needs_background": "light"
     },
     "output_type": "display_data"
    }
   ],
   "source": [
    "from matplotlib import pyplot as plt\n",
    "import numpy as np\n",
    "\n",
    "T = np.array(range(5,500))\n",
    "Cv= Int* (9*V*rho*k*((T/theta)**3))\n",
    "\n",
    "plt.plot(T,Cv)\n",
    "plt.xlabel('Temperature $(K)$')\n",
    "plt.ylabel('Heat Capacity $(J/K)$')\n",
    "\n"
   ]
  },
  {
   "cell_type": "code",
   "execution_count": null,
   "metadata": {},
   "outputs": [],
   "source": []
  }
 ],
 "metadata": {
  "kernelspec": {
   "display_name": "Python 3",
   "language": "python",
   "name": "python3"
  },
  "language_info": {
   "codemirror_mode": {
    "name": "ipython",
    "version": 3
   },
   "file_extension": ".py",
   "mimetype": "text/x-python",
   "name": "python",
   "nbconvert_exporter": "python",
   "pygments_lexer": "ipython3",
   "version": "3.8.3"
  }
 },
 "nbformat": 4,
 "nbformat_minor": 4
}
